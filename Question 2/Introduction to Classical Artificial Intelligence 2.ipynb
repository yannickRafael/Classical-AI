{
 "cells": [
  {
   "cell_type": "markdown",
   "metadata": {},
   "source": [
    "# Introduction to Classical Artificial Intelligence \n",
    "# 2 - Markov Decision Processes\n",
    "\n",
    "This notebook is a modified version of the mdp_apps notebook of the AIMA 4th edition repository (https://github.com/aimacode/aima-python).\n",
    "\n",
    "This notebook focuses on path planning problems.\n",
    "\n",
    "Original preamble:\n",
    "In this notebook we will take a look at some indicative applications of markov decision processes. \n",
    "We will cover content from [`mdp.py`](https://github.com/aimacode/aima-python/blob/master/mdp.py), for **Chapter 17 Making Complex Decisions** of Stuart Russel's and Peter Norvig's book [*Artificial Intelligence: A Modern Approach*](http://aima.cs.berkeley.edu/).\n"
   ]
  },
  {
   "cell_type": "code",
   "execution_count": 19,
   "metadata": {},
   "outputs": [],
   "source": [
    "from mdp4e import *\n",
    "from notebook import psource, pseudocode"
   ]
  },
  {
   "cell_type": "markdown",
   "metadata": {},
   "source": [
    "## GRID MDP\n",
    "---\n",
    "Markov Decision Processes can be used to find the best path through a maze. Let us consider this simple maze.\n",
    "![title](images/maze.png)\n",
    "\n",
    "This environment can be formulated as a GridMDP.\n",
    "<br>\n",
    "To make the grid matrix, we will consider the state-reward to be -0.1 for every state.\n",
    "<br>\n",
    "State (1, 1) will have a reward of -5 to signify that this state is to be prohibited.\n",
    "<br>\n",
    "State (9, 9) will have a reward of +5.\n",
    "This will be the terminal state.\n",
    "<br>\n",
    "The matrix can be generated using the GridMDP editor or we can write it ourselves."
   ]
  },
  {
   "cell_type": "code",
   "execution_count": 20,
   "metadata": {},
   "outputs": [],
   "source": [
    "grid = [\n",
    "    [None, None, None, None, None, None, None, None, None, None, None], \n",
    "    [None, -0.1, -0.1, -0.1, -0.1, -0.1, -0.1, -0.1, None, +5.0, None], \n",
    "    [None, -0.1, None, None, None, None, None, None, None, -0.1, None], \n",
    "    [None, -0.1, -0.1, -0.1, -0.1, -0.1, -0.1, -0.1, -0.1, -0.1, None], \n",
    "    [None, -0.1, None, None, None, None, None, None, None, None, None], \n",
    "    [None, -0.1, None, -0.1, -0.1, -0.1, -0.1, -0.1, -0.1, -0.1, None], \n",
    "    [None, -0.1, None, None, None, None, None, -0.1, None, -0.1, None], \n",
    "    [None, -0.1, -0.1, -0.1, -0.1, -0.1, -0.1, -0.1, None, -0.1, None], \n",
    "    [None, None, None, None, None, -0.1, None, -0.1, None, -0.1, None], \n",
    "    [None, -5.0, -0.1, -0.1, -0.1, -0.1, None, -0.1, None, -0.1, None], \n",
    "    [None, None, None, None, None, None, None, None, None, None, None]\n",
    "]"
   ]
  },
  {
   "cell_type": "markdown",
   "metadata": {},
   "source": [
    "We have only one terminal state, (9, 9):"
   ]
  },
  {
   "cell_type": "code",
   "execution_count": 21,
   "metadata": {},
   "outputs": [],
   "source": [
    "terminals = [(9, 9)]"
   ]
  },
  {
   "cell_type": "markdown",
   "metadata": {},
   "source": [
    "We define our maze environment below:"
   ]
  },
  {
   "cell_type": "code",
   "execution_count": 22,
   "metadata": {},
   "outputs": [],
   "source": [
    "maze = GridMDP(grid, terminals)"
   ]
  },
  {
   "cell_type": "markdown",
   "metadata": {},
   "source": [
    "Let's see how value iteration works on a simple case."
   ]
  },
  {
   "cell_type": "code",
   "execution_count": 23,
   "metadata": {},
   "outputs": [],
   "source": [
    "def value_iteration_verbose(mdp, epsilon=0.001):\n",
    "    \"\"\"Solving an MDP by value iteration. [Figure 17.4]\"\"\"\n",
    "    verb = '0'\n",
    "    U1 = {s: 0 for s in mdp.states}\n",
    "    R, T, gamma = mdp.R, mdp.T, mdp.gamma\n",
    "    while True:\n",
    "        U = U1.copy()\n",
    "        if verb == '0':\n",
    "            for key in U:\n",
    "                print(key, ' : ', U[key])\n",
    "            verb = input(\"Press 0 for step-by-step execution and 1 for fast execution: \")\n",
    "        delta = 0\n",
    "        for s in mdp.states:\n",
    "            U1[s] = R(s) + gamma * max([sum([p * U[s1] for (p, s1) in T(s, a)])\n",
    "                                        for a in mdp.actions(s)])\n",
    "            delta = max(delta, abs(U1[s] - U[s]))\n",
    "        if delta < epsilon * (1 - gamma) / gamma:\n",
    "            return U"
   ]
  },
  {
   "cell_type": "markdown",
   "metadata": {},
   "source": [
    "To solve the maze, we can use the `best_policy` function along with `value_iteration`."
   ]
  },
  {
   "cell_type": "code",
   "execution_count": 24,
   "metadata": {},
   "outputs": [],
   "source": [
    "toy_grid = GridMDP([[-0.04, -0.04, -0.04, +1],\n",
    "        [-0.04, None,  -0.04, -1],\n",
    "        [-0.04, -0.04, -0.04, -0.04]],\n",
    "        terminals=[(3, 2), (3, 1)])"
   ]
  },
  {
   "cell_type": "code",
   "execution_count": 25,
   "metadata": {},
   "outputs": [
    {
     "name": "stdout",
     "output_type": "stream",
     "text": [
      "(0, 1)  :  0\n",
      "(1, 2)  :  0\n",
      "(2, 1)  :  0\n",
      "(0, 0)  :  0\n",
      "(3, 1)  :  0\n",
      "(2, 0)  :  0\n",
      "(3, 0)  :  0\n",
      "(0, 2)  :  0\n",
      "(2, 2)  :  0\n",
      "(1, 0)  :  0\n",
      "(3, 2)  :  0\n",
      "(0, 1)  :  -0.04\n",
      "(1, 2)  :  -0.04\n",
      "(2, 1)  :  -0.04\n",
      "(0, 0)  :  -0.04\n",
      "(3, 1)  :  -1.0\n",
      "(2, 0)  :  -0.04\n",
      "(3, 0)  :  -0.04\n",
      "(0, 2)  :  -0.04\n",
      "(2, 2)  :  -0.04\n",
      "(1, 0)  :  -0.04\n",
      "(3, 2)  :  1.0\n"
     ]
    },
    {
     "data": {
      "text/plain": [
       "{(0, 1): 0.3984432178350045,\n",
       " (1, 2): 0.649585681261095,\n",
       " (2, 1): 0.48644001739269643,\n",
       " (0, 0): 0.2962883154554812,\n",
       " (3, 1): -1.0,\n",
       " (2, 0): 0.3447542300124158,\n",
       " (3, 0): 0.12987274656746342,\n",
       " (0, 2): 0.5093943765842497,\n",
       " (2, 2): 0.7953620878466678,\n",
       " (1, 0): 0.25386699846479516,\n",
       " (3, 2): 1.0}"
      ]
     },
     "execution_count": 25,
     "metadata": {},
     "output_type": "execute_result"
    }
   ],
   "source": [
    "value_iteration_verbose(toy_grid)"
   ]
  },
  {
   "cell_type": "code",
   "execution_count": 26,
   "metadata": {},
   "outputs": [],
   "source": [
    "pi = best_policy(maze, value_iteration(maze))"
   ]
  },
  {
   "cell_type": "markdown",
   "metadata": {},
   "source": [
    "Let's print out the best policy:"
   ]
  },
  {
   "cell_type": "code",
   "execution_count": 27,
   "metadata": {},
   "outputs": [
    {
     "name": "stdout",
     "output_type": "stream",
     "text": [
      "None   None   None   None   None   None   None   None   None   None   None\n",
      "None   v      <      <      <      <      <      <      None   .      None\n",
      "None   v      None   None   None   None   None   None   None   ^      None\n",
      "None   >      >      >      >      >      >      >      >      ^      None\n",
      "None   ^      None   None   None   None   None   None   None   None   None\n",
      "None   ^      None   >      >      >      >      v      <      <      None\n",
      "None   ^      None   None   None   None   None   v      None   ^      None\n",
      "None   ^      <      <      <      <      <      <      None   ^      None\n",
      "None   None   None   None   None   ^      None   ^      None   ^      None\n",
      "None   >      >      >      >      ^      None   ^      None   ^      None\n",
      "None   None   None   None   None   None   None   None   None   None   None\n"
     ]
    }
   ],
   "source": [
    "from utils import print_table\n",
    "print_table(maze.to_arrows(pi))"
   ]
  },
  {
   "cell_type": "markdown",
   "metadata": {},
   "source": [
    "As you can infer, we can find the path to the terminal state starting from any given state using this policy.\n",
    "All maze problems can be solved by formulating it as a MDP."
   ]
  },
  {
   "cell_type": "code",
   "execution_count": 28,
   "metadata": {},
   "outputs": [],
   "source": [
    "grid2 = [\n",
    "    [None, None, None, None, None, None, None, None, None, None, None], \n",
    "    [None, +5.0, -0.1, -0.1, -0.1, -0.1, -0.1, -0.1, -0.1, +5.0, None], \n",
    "    [None, -0.1, -0.1, -0.1, -0.1, -0.1, -0.1, None, None, -0.1, None], \n",
    "    [None, -0.1, -0.1, -0.1, -0.1, -0.1, -0.1, -0.1, -0.1, -0.1, None], \n",
    "    [None, -0.1, None, None, None, None, None, None, None, -0.1, None], \n",
    "    [None, -0.1, None, -0.1, -0.1, -0.1, -0.1, -0.1, None, -0.1, None], \n",
    "    [None, -0.1, None, -0.1, -0.1, -0.1, -0.1, -0.1, None, -0.1, None], \n",
    "    [None, -0.1, None, -0.1, -0.1, -0.1, -0.1, -0.1, None, -0.1, None], \n",
    "    [None, -0.1, None, -0.1, -0.1, -0.1, -0.1, -0.1, None, -0.1, None], \n",
    "    [None, -5.0, -0.1, -0.1, -0.1, -0.1, -0.1, -0.1, -0.1, -0.1, None], \n",
    "    [None, None, None, None, None, None, None, None, None, None, None]\n",
    "]"
   ]
  },
  {
   "cell_type": "code",
   "execution_count": 29,
   "metadata": {},
   "outputs": [],
   "source": [
    "maze2 = GridMDP(grid2, terminals)"
   ]
  },
  {
   "cell_type": "code",
   "execution_count": 30,
   "metadata": {},
   "outputs": [],
   "source": [
    "pi2 = best_policy(maze2, value_iteration(maze2))"
   ]
  },
  {
   "cell_type": "code",
   "execution_count": 31,
   "metadata": {},
   "outputs": [
    {
     "name": "stdout",
     "output_type": "stream",
     "text": [
      "None   None   None   None   None   None   None   None   None   None   None\n",
      "None   ^      <      <      <      <      <      <      <      .      None\n",
      "None   ^      <      <      <      <      <      None   None   v      None\n",
      "None   ^      <      <      <      <      <      <      <      <      None\n",
      "None   ^      None   None   None   None   None   None   None   ^      None\n",
      "None   ^      None   v      v      <      <      v      None   ^      None\n",
      "None   ^      None   v      v      v      v      v      None   ^      None\n",
      "None   ^      None   v      v      v      v      v      None   ^      None\n",
      "None   ^      None   v      <      <      <      v      None   ^      None\n",
      "None   ^      <      <      <      <      <      >      >      ^      None\n",
      "None   None   None   None   None   None   None   None   None   None   None\n"
     ]
    }
   ],
   "source": [
    "from utils import print_table\n",
    "print_table(maze.to_arrows(pi2))"
   ]
  },
  {
   "cell_type": "markdown",
   "metadata": {},
   "source": [
    "<h1>Final Test</h1>"
   ]
  },
  {
   "cell_type": "markdown",
   "metadata": {},
   "source": [
    "<h2>Question 2</h2>"
   ]
  },
  {
   "cell_type": "code",
   "execution_count": 35,
   "metadata": {},
   "outputs": [],
   "source": [
    "#Define the grid for the path planning problem\n",
    "test_grid = [\n",
    "    [0,0,0,None,None,0,0,0,None],\n",
    "    [0,0,0,0,0,0,None,0,0],\n",
    "    [0,0,0,None,None,0,0,0,0],\n",
    "    [None,None,0,None,0,0,0,0,None],\n",
    "    [0,None,0,None,0,None,0,0,None],\n",
    "    [0,0,0,None,0,None,None,0,0],\n",
    "    [None,0,0,0,0,0,0,None,0],\n",
    "    [None,None,None,0,0,None,0,0,0],\n",
    "    [None,0,0,0,0,0,0,0,1],\n",
    "    ]\n",
    "\n",
    "#Define the terminals\n",
    "test_terminal = [(8,8)]\n",
    "\n",
    "#Define maze environmentfrom utils import print_table\n",
    "test_maze = GridMDP(test_grid, test_terminal, gamma=0.01)"
   ]
  },
  {
   "cell_type": "code",
   "execution_count": 40,
   "metadata": {},
   "outputs": [
    {
     "name": "stdout",
     "output_type": "stream",
     "text": [
      "None   None   None   None   None   None   None   None   None\n",
      "None   None   None   None   None   None   None   None   None\n",
      "None   None   None   None   None   None   None   None   None\n",
      "None   None   None   None   None   None   None   None   None\n",
      "None   None   None   None   None   None   None   None   None\n",
      "None   None   None   None   None   None   None   None   None\n",
      "None   None   None   None   None   None   None   None   None\n",
      "None   None   None   None   None   None   None   None   None\n",
      "None   None   None   None   None   None   None   None   >   \n"
     ]
    }
   ],
   "source": [
    "#find the best policy\n",
    "test_pi = best_policy(test_maze, value_iteration(test_maze))\n",
    "\n",
    "\n",
    "#print the best policy\n",
    "from utils import print_table\n",
    "print_table(test_maze.to_arrows(test_pi))"
   ]
  },
  {
   "cell_type": "markdown",
   "metadata": {},
   "source": [
    "<h2>Try out grid<h2>"
   ]
  },
  {
   "cell_type": "code",
   "execution_count": 43,
   "metadata": {},
   "outputs": [],
   "source": [
    "#Define the grid for the path planning problem\n",
    "try_grid = [\n",
    "    [-1,-1,-1,None,None,-1,-1,-1,None],\n",
    "    [-1,-1,-1,-1,-1,-1,None,-1,-1],\n",
    "    [-1,-1,-1,None,None,-1,-1,-1,-1],\n",
    "    [None,None,-1,None,-1,-1,-1,-1,None],\n",
    "    [-1,None,-1,None,-1,None,-1,-1,None],\n",
    "    [-1,-1,-1,None,-1,None,None,-1,-1],\n",
    "    [None,-1,-1,-1,-1,-1,-1,None,-1],\n",
    "    [None,None,None,-1,-1,None,-1,-1,-1],\n",
    "    [None,-1,-1,-1,-1,-1,-1,-1,1],\n",
    "    ]\n",
    "\n",
    "#Define the terminals\n",
    "try_terminal = [(8,8)]\n",
    "\n",
    "#Define maze environmentfrom utils import print_table\n",
    "try_maze = GridMDP(try_grid, try_terminal, gamma=0.01)"
   ]
  },
  {
   "cell_type": "code",
   "execution_count": 44,
   "metadata": {},
   "outputs": [
    {
     "name": "stdout",
     "output_type": "stream",
     "text": [
      ">      >      >      None   None   >      >      >      None\n",
      ">      >      >      >      >      >      None   >      >   \n",
      ">      >      >      None   None   >      >      >      >   \n",
      "None   None   >      None   >      >      >      >      None\n",
      ">      None   >      None   >      None   >      >      None\n",
      ">      >      >      None   >      None   None   >      >   \n",
      "None   >      >      >      >      >      >      None   >   \n",
      "None   None   None   >      >      None   >      >      v   \n",
      "None   >      >      >      >      >      >      >      >   \n"
     ]
    }
   ],
   "source": [
    "#find the best policy\n",
    "try_pi = best_policy(try_maze, value_iteration(try_maze))\n",
    "\n",
    "\n",
    "#print the best policy\n",
    "from utils import print_table\n",
    "print_table(try_maze.to_arrows(try_pi))"
   ]
  }
 ],
 "metadata": {
  "kernelspec": {
   "display_name": "Python 3",
   "language": "python",
   "name": "python3"
  },
  "language_info": {
   "codemirror_mode": {
    "name": "ipython",
    "version": 3
   },
   "file_extension": ".py",
   "mimetype": "text/x-python",
   "name": "python",
   "nbconvert_exporter": "python",
   "pygments_lexer": "ipython3",
   "version": "3.10.12"
  }
 },
 "nbformat": 4,
 "nbformat_minor": 2
}
